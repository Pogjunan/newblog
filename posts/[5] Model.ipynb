{
 "cells": [
  {
   "cell_type": "raw",
   "id": "ef9a39fd-b2e4-4520-b2b5-6ef25aaceac8",
   "metadata": {},
   "source": [
    "---\n",
    "title: \"[5] Model\"\n",
    "author: \"전준한\"\n",
    "date: \"12/23/2023\"\n",
    "---"
   ]
  },
  {
   "cell_type": "markdown",
   "id": "d8642ad0-e6a0-4337-b5cf-c7a152b54459",
   "metadata": {},
   "source": [
    "# `CNN`"
   ]
  },
  {
   "cell_type": "markdown",
   "id": "c694a2d9-771a-42a5-8416-561f631b5892",
   "metadata": {},
   "source": [
    "```\n",
    "model.add((Conv2D(32, kernel_size=(3,3), input_shape=(28,28,1),activation='relu'))\n",
    "          #input_shape = 행,열,색상\n",
    "model.add((Conv2D(64,(3,3), activation='relu'))\n",
    "        # 필터개수를 32개로 받아서 64개로 실시.\n",
    "```"
   ]
  },
  {
   "cell_type": "markdown",
   "id": "b53b6b60-7cee-46d0-9f91-ec22e7dbeea6",
   "metadata": {},
   "source": [
    "## 맥스풀링\n",
    "`-` MaxPooling2d() <br>\n",
    "  - model.add(MaxPooling2d(pool_size=2)) # 2x2 로 겹치지않게 나누어서 그중 가장 큰 숫자추출\n",
    "  - 전체크기가 절반으로 줄어듭니다."
   ]
  },
  {
   "cell_type": "markdown",
   "id": "f633d09e-f0a2-4e7d-a227-8e56761fb1b3",
   "metadata": {},
   "source": [
    "### [예시]\n",
    "$ X_1 , .... X_n $ (784개 속성) <br>\n",
    "$ X_1= $ (28x28x1) <br>\n",
    "$ Y _{h1} convolution (32개 필터 , 3x3)$ => 26x26x32 <br>\n",
    "$ Y _{h2} convolution (64개 필터 , 3x3)$ => 24x24x64 <br>\n",
    "$ Y _{max-pooling} (Poolsize:2) $ => 12x12x64 <br>\n",
    "$ Y h1 $ => 512개 노드 # 12*12*64 = 9216 차원의 벡터가나왔고 512개의 노드로 고정시켰다는 의미입니다. <br>\n",
    "$ Y_0 $ => 10개 출력 + softmax => 10개 차원으로 축소 + softmax 로 확률을 정함 <br>\n",
    "\n",
    "\n",
    "\n"
   ]
  },
  {
   "cell_type": "markdown",
   "id": "59b7eec0-5eff-494f-adbb-adac52f9cb22",
   "metadata": {},
   "source": [
    "[과적합 피하기위한 노력]\n",
    "---\n",
    "`-` 드랍아웃 (dropout)\n",
    "- 역전파 순전파 게속하면 당연히 수렴을 통해 overfitting 이 예상됩니다.\n",
    " - 이에 드랍아웃으로 랜덤한 노드를 퍼센트로 꺼서 overfitting 을 방지합니다."
   ]
  },
  {
   "cell_type": "markdown",
   "id": "dbf52757-42cd-4a00-80db-a1c50e1a33bc",
   "metadata": {},
   "source": [
    "# 이론은 `텐초파이토치 책` 정리로 옮기겠습니다! - 다른 repository 봐주시길바랍니다!"
   ]
  },
  {
   "cell_type": "code",
   "execution_count": null,
   "id": "f976813d-0ca5-409f-8b92-b58ff8087f00",
   "metadata": {},
   "outputs": [],
   "source": []
  }
 ],
 "metadata": {
  "kernelspec": {
   "display_name": "deep",
   "language": "python",
   "name": "deep"
  },
  "language_info": {
   "codemirror_mode": {
    "name": "ipython",
    "version": 3
   },
   "file_extension": ".py",
   "mimetype": "text/x-python",
   "name": "python",
   "nbconvert_exporter": "python",
   "pygments_lexer": "ipython3",
   "version": "3.10.13"
  }
 },
 "nbformat": 4,
 "nbformat_minor": 5
}
