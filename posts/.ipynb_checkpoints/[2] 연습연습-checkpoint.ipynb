{
 "cells": [
  {
   "cell_type": "raw",
   "id": "94e900da-0e2a-4ada-938a-109e1d4531c4",
   "metadata": {},
   "source": [
    "---\n",
    "title: \"두번째 것\"\n",
    "author: \"전준한\"\n",
    "date: \"01/02/2024\"\n",
    "---\n",
    "\n"
   ]
  },
  {
   "cell_type": "markdown",
   "id": "097e2c04-24de-434b-80db-9294de106e76",
   "metadata": {},
   "source": [
    "`[2]` 연습"
   ]
  },
  {
   "cell_type": "code",
   "execution_count": 1,
   "id": "ee112922-a825-4e10-9963-9dfad8d92366",
   "metadata": {
    "tags": []
   },
   "outputs": [
    {
     "data": {
      "text/plain": [
       "2"
      ]
     },
     "execution_count": 1,
     "metadata": {},
     "output_type": "execute_result"
    }
   ],
   "source": [
    "1+1"
   ]
  },
  {
   "cell_type": "code",
   "execution_count": null,
   "id": "3a3963b4-7956-41c9-a263-b78977c52a2d",
   "metadata": {},
   "outputs": [],
   "source": []
  }
 ],
 "metadata": {
  "kernelspec": {
   "display_name": "Python (hf)",
   "language": "python",
   "name": "hf"
  },
  "language_info": {
   "codemirror_mode": {
    "name": "ipython",
    "version": 3
   },
   "file_extension": ".py",
   "mimetype": "text/x-python",
   "name": "python",
   "nbconvert_exporter": "python",
   "pygments_lexer": "ipython3",
   "version": "3.10.13"
  }
 },
 "nbformat": 4,
 "nbformat_minor": 5
}
