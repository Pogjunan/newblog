{
 "cells": [
  {
   "cell_type": "raw",
   "id": "f691ab8b-73f8-48a3-94d6-857f2c9d5f98",
   "metadata": {},
   "source": [
    "---\n",
    "title: \"[5] Model\"\n",
    "author: \"전준한\"\n",
    "date: \"12/23/2023\"\n",
    "---"
   ]
  },
  {
   "cell_type": "markdown",
   "id": "0808dc8b-2b93-4ff5-ad6f-3e2c05449350",
   "metadata": {},
   "source": [
    "# `CNN`\n",
    "```\n",
    "model.add((Conv2D(32, kernel_size=(3,3), input_shape=(28,28,1),activation='relu'))\n",
    "          #input_shape = 행,열,색상\n",
    "model.add((Conv2D(64,(3,3), activation='relu'))\n",
    "        # 필터개수를 32개로 받아서 64개로 실시.\n",
    "```\n",
    "\n",
    "\n",
    "## 맥스풀링\n",
    "\n",
    "`-` MaxPooling2d() \n",
    "\n",
    "<br>\n",
    "\n",
    "- model.add(MaxPooling2d(pool_size=2)) # 2x2 로 겹치지않게 나누어서 그중 가장 큰 숫자추출\n",
    "- 전체크기가 절반으로 줄어듭니다."
   ]
  },
  {
   "cell_type": "markdown",
   "id": "96260b22-116c-4f73-b9bf-b32022c90aed",
   "metadata": {},
   "source": [
    "**[예시]**\n",
    "\n",
    "$ X_1 , .... X_n $ (784개 속성) \n",
    "\n",
    "<br>\n",
    "$ X_1= $ (28x28x1) \n",
    "\n",
    "<br>\n",
    "$ Y _{h1} convolution (32개 필터 , 3x3)$ => 26x26x32\n",
    "\n",
    "<br>\n",
    "$ Y _{h2} convolution (64개 필터 , 3x3)$ => 24x24x64 \n",
    "\n",
    "<br>\n",
    "$ Y _{max-pooling} (Poolsize:2) $ => 12x12x64 \n",
    "\n",
    "<br>\n",
    "$ Y h1 $ => 512개 노드 # 12*12*64 = 9216 차원의 벡터가나왔고 512개의 노드로 고정시켰다는 의미입니다. \n",
    "\n",
    "<br>\n",
    "$ Y_0 $ => 10개 출력 + softmax => 10개 차원으로 축소 + softmax 로 확률을 정함 \n",
    "\n",
    "<br>\n",
    "\n",
    "\n",
    "\n"
   ]
  },
  {
   "cell_type": "markdown",
   "id": "0aa9ddb6-c6d2-4d0c-a30a-740f0e619624",
   "metadata": {},
   "source": [
    "## [과적합 피하기위한 노력]\n",
    "\n",
    "`-` 드랍아웃 (dropout)\n",
    "- 역전파 순전파 게속하면 당연히 수렴을 통해 overfitting 이 예상됩니다.\n",
    " - 이에 드랍아웃으로 랜덤한 노드를 퍼센트로 꺼서 overfitting 을 방지합니다."
   ]
  },
  {
   "cell_type": "markdown",
   "id": "1f25373c-f34e-4264-8b23-a9ee874d629f",
   "metadata": {},
   "source": [
    "# 이론은 `텐초파이토치 책` 정리로 옮기겠습니다! - 다른 repository 봐주시길바랍니다!"
   ]
  },
  {
   "cell_type": "code",
   "execution_count": null,
   "id": "5c505f6c-baac-43ad-91da-d6a833ee08a9",
   "metadata": {},
   "outputs": [],
   "source": []
  }
 ],
 "metadata": {
  "kernelspec": {
   "display_name": "deep",
   "language": "python",
   "name": "deep"
  },
  "language_info": {
   "codemirror_mode": {
    "name": "ipython",
    "version": 3
   },
   "file_extension": ".py",
   "mimetype": "text/x-python",
   "name": "python",
   "nbconvert_exporter": "python",
   "pygments_lexer": "ipython3",
   "version": "3.10.13"
  }
 },
 "nbformat": 4,
 "nbformat_minor": 5
}
