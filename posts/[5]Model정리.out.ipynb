{
  "cells": [
    {
      "cell_type": "markdown",
      "metadata": {},
      "source": [
        "# \\[5\\] Model\n",
        "\n",
        "전준한  \n",
        "2023-12-23\n",
        "\n",
        "# `CNN`\n",
        "\n",
        "    model.add((Conv2D(32, kernel_size=(3,3), input_shape=(28,28,1),activation='relu'))\n",
        "              #input_shape = 행,열,색상\n",
        "    model.add((Conv2D(64,(3,3), activation='relu'))\n",
        "            # 필터개수를 32개로 받아서 64개로 실시.\n",
        "\n",
        "## 맥스풀링\n",
        "\n",
        "`-` MaxPooling2d()\n",
        "\n",
        "<br>\n",
        "\n",
        "-   model.add(MaxPooling2d(pool_size=2)) \\# 2x2 로 겹치지않게 나누어서\n",
        "    그중 가장 큰 숫자추출\n",
        "-   전체크기가 절반으로 줄어듭니다.\n",
        "\n",
        "**\\[예시\\]**\n",
        "\n",
        "\\$ X_1 , …. X_n \\$ (784개 속성)\n",
        "\n",
        "<br> \\$ X_1= \\$ (28x28x1)\n",
        "\n",
        "<br> \\$ Y \\_{h1} convolution (32개 필터 , 3x3)\\$ =\\> 26x26x32\n",
        "\n",
        "<br> \\$ Y \\_{h2} convolution (64개 필터 , 3x3)\\$ =\\> 24x24x64\n",
        "\n",
        "<br> \\$ Y \\_{max-pooling} (Poolsize:2) \\$ =\\> 12x12x64\n",
        "\n",
        "<br> \\$ Y h1 \\$ =\\> 512개 노드 \\# 12*12*64 = 9216 차원의 벡터가나왔고\n",
        "512개의 노드로 고정시켰다는 의미입니다.\n",
        "\n",
        "<br> \\$ Y_0 \\$ =\\> 10개 출력 + softmax =\\> 10개 차원으로 축소 + softmax\n",
        "로 확률을 정함\n",
        "\n",
        "<br>\n",
        "\n",
        "## \\[과적합 피하기위한 노력\\]\n",
        "\n",
        "`-` 드랍아웃 (dropout) - 역전파 순전파 게속하면 당연히 수렴을 통해\n",
        "overfitting 이 예상됩니다. - 이에 드랍아웃으로 랜덤한 노드를 퍼센트로\n",
        "꺼서 overfitting 을 방지합니다.\n",
        "\n",
        "# 이론은 `텐초파이토치 책` 정리로 옮기겠습니다! - 다른 repository 봐주시길바랍니다!"
      ],
      "id": "88e04a34-a47f-4bf0-8a5a-9cd6df96bc6c"
    }
  ],
  "nbformat": 4,
  "nbformat_minor": 5,
  "metadata": {
    "kernelspec": {
      "name": "deep",
      "display_name": "deep",
      "language": "python"
    },
    "language_info": {
      "name": "python",
      "codemirror_mode": {
        "name": "ipython",
        "version": "3"
      },
      "file_extension": ".py",
      "mimetype": "text/x-python",
      "nbconvert_exporter": "python",
      "pygments_lexer": "ipython3",
      "version": "3.10.13"
    }
  }
}