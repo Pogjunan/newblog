{
  "cells": [
    {
      "cell_type": "markdown",
      "metadata": {},
      "source": [
        "# \\[4\\]딥러닝기초실습\n",
        "\n",
        "전준한  \n",
        "2023-12-23"
      ],
      "id": "5709cba6-c30b-4f72-86ed-f2c0986d3ab4"
    },
    {
      "cell_type": "code",
      "execution_count": null,
      "metadata": {
        "tags": []
      },
      "outputs": [],
      "source": [
        "#모델 직접 설계 (tensorflow)\n",
        "\n",
        "from tensorflow.keras.models import Sequential\n",
        "from tensorflow.keras.layers import Dense\n",
        "\n",
        "import numpy as np\n",
        "import tensorflow as tf\n",
        "\n",
        "tf.random.set_seed(3)\n",
        "\n",
        "# data_set\n",
        "Data_set = np.load(txt(\"....\",deliiter=\",\"))\n",
        "\n",
        "# X = Data_set[:,0:17]\n",
        "# Y = Data_set[:,17]\n"
      ],
      "id": "5dd605ff-3162-4011-9695-a4a9113acc5f"
    },
    {
      "cell_type": "code",
      "execution_count": null,
      "metadata": {},
      "outputs": [],
      "source": [
        "model = Sequential()\n",
        "model.add(Dense(30,inpt_dim=17 , activation='relu'))\n",
        "model.add(Dense(1, activation='sigmoid'))"
      ],
      "id": "f7973dfb-0d42-4178-8c8e-8e17ac0f2838"
    },
    {
      "cell_type": "markdown",
      "metadata": {},
      "source": [
        "## add 로 새로운 층을 만들고 Dense 함수로 노드의 개수를 30개로 만듭니다.\n",
        "\n",
        "`-` input_dim 으로 변수개수를 만들고 dense 는 은닉층 + 입력층의 역할을\n",
        "겸합니다. - 현재 30,17 은 17개수의 변수 -\\> 30개의 변수로\n",
        "늘리겠다는것입니다."
      ],
      "id": "a2cd8ed1-0f29-462b-b9e3-10c561d58dff"
    },
    {
      "cell_type": "code",
      "execution_count": null,
      "metadata": {},
      "outputs": [],
      "source": [
        "model.compile(loss='mean_squared_error',optimizer='adam',metrics=['aaccuracy'])\n",
        "model.fit(X,Y,epochs=100,batch__size=10)"
      ],
      "id": "45fdf2fa-1b59-40e2-b6ad-d51696357da7"
    },
    {
      "cell_type": "markdown",
      "metadata": {},
      "source": [
        "metric 함수는 모델이 컴파일될 때 모델 수행 결과 나타나게끔 설정하는\n",
        "부분입니다.\n",
        "\n",
        "## 교차엔트로피\n",
        "\n",
        "-   분류문제에서 많이 사용되며 이항인 경우 binary cross entropy 사용"
      ],
      "id": "5610bfc8-8e78-4599-b46a-caf1fc07bb1f"
    },
    {
      "cell_type": "code",
      "execution_count": 3,
      "metadata": {
        "tags": []
      },
      "outputs": [],
      "source": [
        "## 이후 쉬운  딥러닝 예시 나왔습니다."
      ],
      "id": "a7b3d2b2-9162-4c21-92a1-1ebce7c901d9"
    }
  ],
  "nbformat": 4,
  "nbformat_minor": 5,
  "metadata": {
    "kernelspec": {
      "name": "hf",
      "display_name": "Python (hf)",
      "language": "python"
    },
    "language_info": {
      "name": "python",
      "codemirror_mode": {
        "name": "ipython",
        "version": "3"
      },
      "file_extension": ".py",
      "mimetype": "text/x-python",
      "nbconvert_exporter": "python",
      "pygments_lexer": "ipython3",
      "version": "3.10.13"
    }
  }
}