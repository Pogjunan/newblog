{
  "cells": [
    {
      "cell_type": "markdown",
      "metadata": {},
      "source": [
        "# 두번째 것\n",
        "\n",
        "전준한  \n",
        "2024-01-02\n",
        "\n",
        "`[2]` 연습"
      ],
      "id": "20699f71-6c07-4696-82ae-4cac0a1ade9f"
    },
    {
      "cell_type": "code",
      "execution_count": 1,
      "metadata": {
        "tags": []
      },
      "outputs": [],
      "source": [
        "1+1"
      ],
      "id": "ee112922-a825-4e10-9963-9dfad8d92366"
    }
  ],
  "nbformat": 4,
  "nbformat_minor": 5,
  "metadata": {
    "kernelspec": {
      "name": "hf",
      "display_name": "Python (hf)",
      "language": "python"
    },
    "language_info": {
      "name": "python",
      "codemirror_mode": {
        "name": "ipython",
        "version": "3"
      },
      "file_extension": ".py",
      "mimetype": "text/x-python",
      "nbconvert_exporter": "python",
      "pygments_lexer": "ipython3",
      "version": "3.10.13"
    }
  }
}